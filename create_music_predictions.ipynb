{
 "cells": [
  {
   "cell_type": "markdown",
   "id": "dfeb5d65",
   "metadata": {},
   "source": [
    "# Create music with model that we trained"
   ]
  },
  {
   "cell_type": "markdown",
   "id": "b1a00bd8",
   "metadata": {},
   "source": [
    "## Necessary imports"
   ]
  },
  {
   "cell_type": "code",
   "execution_count": null,
   "id": "f4b9d8fb",
   "metadata": {},
   "outputs": [],
   "source": [
    "import tensorflow.keras as keras\n",
    "import music21 as m21\n",
    "import json"
   ]
  },
  {
   "cell_type": "markdown",
   "id": "78ff6599",
   "metadata": {},
   "source": [
    "## Function"
   ]
  },
  {
   "cell_type": "code",
   "execution_count": null,
   "id": "be08f3a6",
   "metadata": {},
   "outputs": [],
   "source": [
    "def map_songs(songs_time_series, mapping):\n",
    "    '''\n",
    "    Converts the time series list of songs into a list of mapped songs\n",
    "    \n",
    "    Input params\n",
    "    songs_time_series: list of songs in time series format\n",
    "    mapping: dictionary with every note in songs_time_series mapped to an int\n",
    "    \n",
    "    Returns\n",
    "    mapped_songs: list of songs mapped\n",
    "    '''\n",
    "    mapped_songs = []\n",
    "    for song in songs_time_series:\n",
    "        mapped_song = []\n",
    "        for note in song:\n",
    "            mapped_note = mapping[note]\n",
    "            mapped_song.append(mapped_note)\n",
    "        mapped_songs.append(mapped_song)\n",
    "    return mapped_songs"
   ]
  },
  {
   "cell_type": "markdown",
   "id": "0c2842aa",
   "metadata": {},
   "source": [
    "## Load the model"
   ]
  },
  {
   "cell_type": "code",
   "execution_count": null,
   "id": "dd50a85e",
   "metadata": {},
   "outputs": [],
   "source": [
    "model = keras.models.load_model('model_3')"
   ]
  },
  {
   "cell_type": "markdown",
   "id": "e81b2725",
   "metadata": {},
   "source": [
    "## Load the mapping"
   ]
  },
  {
   "cell_type": "code",
   "execution_count": null,
   "id": "b41331b4",
   "metadata": {},
   "outputs": [],
   "source": [
    "with open('mapping_file2', 'r') as file:\n",
    "    mapping_string = file.read().replace(\"\\n    \", \"\")"
   ]
  },
  {
   "cell_type": "code",
   "execution_count": null,
   "id": "e5dd2f70",
   "metadata": {},
   "outputs": [],
   "source": [
    "mapping = json.loads(mapping_string.replace(\"'\", \"\\\"\"))"
   ]
  },
  {
   "cell_type": "markdown",
   "id": "058c3b62",
   "metadata": {},
   "source": [
    "## Input some random midi notes as start of song, map that and create test inputs"
   ]
  },
  {
   "cell_type": "code",
   "execution_count": null,
   "id": "b503375a",
   "metadata": {},
   "outputs": [],
   "source": [
    "song = [['72','74','64','55','62','60']]\n",
    "mapped_song = map_songs(song, mapping)\n",
    "test_inputs = keras.utils.to_categorical(mapped_song, num_classes=len(mapping))"
   ]
  },
  {
   "cell_type": "markdown",
   "id": "09eb70ad",
   "metadata": {},
   "source": [
    "## Create a song of 256 16th notes"
   ]
  },
  {
   "cell_type": "code",
   "execution_count": null,
   "id": "591d33c2",
   "metadata": {},
   "outputs": [],
   "source": [
    "# Model predicts on the test_inputs that was created from our random song. Then it adds the prediction\n",
    "# to the song and then predicts the next note on that new sequence.\n",
    "\n",
    "for i in range(256-len(song)):\n",
    "    note = model.predict(test_inputs).argmax()\n",
    "    mapped_song[0].append(note)\n",
    "    test_inputs = keras.utils.to_categorical(mapped_song, num_classes=len(mapping))"
   ]
  },
  {
   "cell_type": "markdown",
   "id": "6c55ab6f",
   "metadata": {},
   "source": [
    "## Create a new song in midi notation with reversed mapping and the predicted song"
   ]
  },
  {
   "cell_type": "code",
   "execution_count": null,
   "id": "29e9c1ed",
   "metadata": {},
   "outputs": [],
   "source": [
    "new_song = []\n",
    "reverse_dict = {value: key for key, value in mapping.items()}\n",
    "for i in mapped_song[0]:\n",
    "    note = reverse_dict[i]\n",
    "    new_song.append(note)"
   ]
  },
  {
   "cell_type": "markdown",
   "id": "2874dec5",
   "metadata": {},
   "source": [
    "## Convert the song into a stream and save as midi"
   ]
  },
  {
   "cell_type": "code",
   "execution_count": null,
   "id": "58822023",
   "metadata": {},
   "outputs": [],
   "source": [
    "stream = m21.stream.Stream()\n",
    "start_symbol = None\n",
    "step_counter = 1\n",
    "for i, symbol in enumerate(new_song):\n",
    "    if symbol != \"-\" or i + 1 == len(new_song):\n",
    "        if start_symbol is not None:\n",
    "            quarter_length_duration = 0.25 * step_counter # 0.25 * 4 = 1\n",
    "            if start_symbol == \"R\":\n",
    "                m21_event = m21.note.Rest(quarterLength=quarter_length_duration)\n",
    "            else:\n",
    "                m21_event = m21.note.Note(int(start_symbol), quarterLength=quarter_length_duration)\n",
    "            stream.append(m21_event)\n",
    "            step_counter = 1\n",
    "        start_symbol = symbol\n",
    "    else:\n",
    "        step_counter += 1\n",
    "stream.write('midi', 'song3.mid')\n"
   ]
  },
  {
   "cell_type": "code",
   "execution_count": null,
   "id": "e3f5efeb",
   "metadata": {},
   "outputs": [],
   "source": []
  }
 ],
 "metadata": {
  "kernelspec": {
   "display_name": "Python 3 (ipykernel)",
   "language": "python",
   "name": "python3"
  },
  "language_info": {
   "codemirror_mode": {
    "name": "ipython",
    "version": 3
   },
   "file_extension": ".py",
   "mimetype": "text/x-python",
   "name": "python",
   "nbconvert_exporter": "python",
   "pygments_lexer": "ipython3",
   "version": "3.11.5"
  }
 },
 "nbformat": 4,
 "nbformat_minor": 5
}
